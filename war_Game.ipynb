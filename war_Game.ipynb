{
  "nbformat": 4,
  "nbformat_minor": 0,
  "metadata": {
    "colab": {
      "name": "war_Game.ipynb",
      "provenance": []
    },
    "kernelspec": {
      "name": "python3",
      "display_name": "Python 3"
    }
  },
  "cells": [
    {
      "cell_type": "code",
      "metadata": {
        "id": "R8xCdd0HBb3l"
      },
      "source": [
        "suit =('diamonds (♦)', 'clubs (♣)', 'hearts (♥)',' spades (♠)')\r\n",
        "\r\n",
        "rank = ( 'two', 'three', 'four', 'five', 'six', 'seven', 'eight', 'nine', 'ten', 'jack', 'queen', 'king', 'ace')\r\n",
        "\r\n",
        "values  ={ 'two': 2, 'three':3, 'four': 4,'five': 5, 'six':6, 'seven':7, 'eight': 8, 'nine':9, 'ten':10, 'jack':11, \r\n",
        "          'queen':12, 'king':13, 'ace':14}\r\n",
        "\r\n",
        "import random"
      ],
      "execution_count": 160,
      "outputs": []
    },
    {
      "cell_type": "code",
      "metadata": {
        "id": "PDphti1PEUnX"
      },
      "source": [
        "# we create our card class\r\n",
        "\r\n",
        "class Card():\r\n",
        "\r\n",
        "  def __init__(self,suit, rank): # has three atrributes, suit and rank.\r\n",
        "    self.suit = suit  \r\n",
        "    self.rank = rank\r\n",
        "    self.value = values[rank] # we want to use numbers to be able to make ranking from our cards, using dictionaries\r\n",
        "\r\n",
        "  def __str__(self):\r\n",
        "    # to print rank of suit(e.g two of diamonds)\r\n",
        "    return f'{self.rank} of {self.suit}' \r\n",
        "\r\n",
        "\r\n",
        "  \r\n",
        "\r\n",
        "\r\n"
      ],
      "execution_count": 161,
      "outputs": []
    },
    {
      "cell_type": "code",
      "metadata": {
        "id": "meSxfFbIGoPo"
      },
      "source": [
        "card_class = Card('diamonds', 'two')"
      ],
      "execution_count": 162,
      "outputs": []
    },
    {
      "cell_type": "code",
      "metadata": {
        "colab": {
          "base_uri": "https://localhost:8080/",
          "height": 35
        },
        "id": "mUlFqSc-Gyb3",
        "outputId": "2c65959a-f026-4c87-bb96-e1663d5adb01"
      },
      "source": [
        "card_class.rank\r\n"
      ],
      "execution_count": 163,
      "outputs": [
        {
          "output_type": "execute_result",
          "data": {
            "application/vnd.google.colaboratory.intrinsic+json": {
              "type": "string"
            },
            "text/plain": [
              "'two'"
            ]
          },
          "metadata": {
            "tags": []
          },
          "execution_count": 163
        }
      ]
    },
    {
      "cell_type": "code",
      "metadata": {
        "colab": {
          "base_uri": "https://localhost:8080/"
        },
        "id": "V04KGkOVG0ch",
        "outputId": "684872de-e210-4caa-ffcd-dc2be1c7d9b4"
      },
      "source": [
        "card_class.value"
      ],
      "execution_count": 164,
      "outputs": [
        {
          "output_type": "execute_result",
          "data": {
            "text/plain": [
              "2"
            ]
          },
          "metadata": {
            "tags": []
          },
          "execution_count": 164
        }
      ]
    },
    {
      "cell_type": "code",
      "metadata": {
        "colab": {
          "base_uri": "https://localhost:8080/"
        },
        "id": "QrOyt6w6G3Ly",
        "outputId": "b2e400c9-f657-4c55-fc1a-4b995db30fcb"
      },
      "source": [
        "print(card_class)"
      ],
      "execution_count": 165,
      "outputs": [
        {
          "output_type": "stream",
          "text": [
            "two of diamonds\n"
          ],
          "name": "stdout"
        }
      ]
    },
    {
      "cell_type": "code",
      "metadata": {
        "id": "p1DbogRJHno3"
      },
      "source": [
        "# DECK CLASS"
      ],
      "execution_count": 166,
      "outputs": []
    },
    {
      "cell_type": "code",
      "metadata": {
        "id": "Sre6yM_vJf8s"
      },
      "source": [
        "# Our deck will have 52 cards using the suit and rank of the cards.\r\n",
        "# the card must be shuffle\r\n",
        "# we should be ble to deal cards from the deck\r\n",
        "# we can still be able to print (suit and rank) from our Card Class\r\n",
        "\r\n",
        "\r\n",
        "\r\n",
        "class Deck():\r\n",
        "\r\n",
        "  def __init__(self):\r\n",
        "    self.all_cards = []\r\n",
        "\r\n",
        "    for suits in suit:\r\n",
        "      for ranks in rank:\r\n",
        "        \r\n",
        "        self.all_cards.append(Card(suits, ranks))\r\n",
        "   \r\n",
        "\r\n",
        "  def deal_a_card(self):\r\n",
        "    # to deal cards from the deck we will use pop()\r\n",
        "    return self.all_cards.pop()\r\n",
        "\r\n",
        "\r\n",
        "  def shuffle_cards(self):\r\n",
        "    return random.shuffle(self.all_cards)\r\n",
        "    "
      ],
      "execution_count": 167,
      "outputs": []
    },
    {
      "cell_type": "code",
      "metadata": {
        "id": "bYve7acVKG8-"
      },
      "source": [
        "card = Deck()\r\n"
      ],
      "execution_count": 168,
      "outputs": []
    },
    {
      "cell_type": "code",
      "metadata": {
        "colab": {
          "base_uri": "https://localhost:8080/"
        },
        "id": "oiERr7d0O8GE",
        "outputId": "2e2356f9-2529-4a1b-e342-cfc5d760ac31"
      },
      "source": [
        "card.deal_a_card() #safe in memory"
      ],
      "execution_count": 169,
      "outputs": [
        {
          "output_type": "execute_result",
          "data": {
            "text/plain": [
              "<__main__.Card at 0x7fe5546ed5f8>"
            ]
          },
          "metadata": {
            "tags": []
          },
          "execution_count": 169
        }
      ]
    },
    {
      "cell_type": "code",
      "metadata": {
        "colab": {
          "base_uri": "https://localhost:8080/"
        },
        "id": "bOF_BLm6ToGG",
        "outputId": "2347aef6-929d-4ee3-c622-de7a280fee79"
      },
      "source": [
        "print(card.all_cards[0])"
      ],
      "execution_count": 170,
      "outputs": [
        {
          "output_type": "stream",
          "text": [
            "two of diamonds (♦)\n"
          ],
          "name": "stdout"
        }
      ]
    },
    {
      "cell_type": "code",
      "metadata": {
        "colab": {
          "base_uri": "https://localhost:8080/"
        },
        "id": "aJqNgM_mVqki",
        "outputId": "eb15fd06-4f72-4f42-e9e1-2759f43c0905"
      },
      "source": [
        "card.shuffle_cards"
      ],
      "execution_count": 171,
      "outputs": [
        {
          "output_type": "execute_result",
          "data": {
            "text/plain": [
              "<bound method Deck.shuffle_cards of <__main__.Deck object at 0x7fe554791b70>>"
            ]
          },
          "metadata": {
            "tags": []
          },
          "execution_count": 171
        }
      ]
    },
    {
      "cell_type": "code",
      "metadata": {
        "colab": {
          "base_uri": "https://localhost:8080/"
        },
        "id": "SR_HlKyeVuvp",
        "outputId": "acb62339-0a5d-47b8-d807-b10a8bac834b"
      },
      "source": [
        "print(card.all_cards[0])"
      ],
      "execution_count": 172,
      "outputs": [
        {
          "output_type": "stream",
          "text": [
            "two of diamonds (♦)\n"
          ],
          "name": "stdout"
        }
      ]
    },
    {
      "cell_type": "code",
      "metadata": {
        "colab": {
          "base_uri": "https://localhost:8080/"
        },
        "id": "bipKbb0EVyNo",
        "outputId": "bb06d5b7-c03d-4aba-c2ec-d3d9afc842ae"
      },
      "source": [
        "card.deal_a_card()"
      ],
      "execution_count": 173,
      "outputs": [
        {
          "output_type": "execute_result",
          "data": {
            "text/plain": [
              "<__main__.Card at 0x7fe5546ed550>"
            ]
          },
          "metadata": {
            "tags": []
          },
          "execution_count": 173
        }
      ]
    },
    {
      "cell_type": "code",
      "metadata": {
        "colab": {
          "base_uri": "https://localhost:8080/"
        },
        "id": "4nAUxt-MV1Ho",
        "outputId": "a514d95e-2afd-445b-b9a9-720e899bc055"
      },
      "source": [
        "print(card.deal_a_card())"
      ],
      "execution_count": 174,
      "outputs": [
        {
          "output_type": "stream",
          "text": [
            "queen of  spades (♠)\n"
          ],
          "name": "stdout"
        }
      ]
    },
    {
      "cell_type": "code",
      "metadata": {
        "colab": {
          "base_uri": "https://localhost:8080/"
        },
        "id": "u2qV55tuV36a",
        "outputId": "0b2eb5f5-0105-450b-f627-5d3af7681c0d"
      },
      "source": [
        "for the_cards in card.all_cards:\r\n",
        "  print(the_cards)"
      ],
      "execution_count": 175,
      "outputs": [
        {
          "output_type": "stream",
          "text": [
            "two of diamonds (♦)\n",
            "three of diamonds (♦)\n",
            "four of diamonds (♦)\n",
            "five of diamonds (♦)\n",
            "six of diamonds (♦)\n",
            "seven of diamonds (♦)\n",
            "eight of diamonds (♦)\n",
            "nine of diamonds (♦)\n",
            "ten of diamonds (♦)\n",
            "jack of diamonds (♦)\n",
            "queen of diamonds (♦)\n",
            "king of diamonds (♦)\n",
            "ace of diamonds (♦)\n",
            "two of clubs (♣)\n",
            "three of clubs (♣)\n",
            "four of clubs (♣)\n",
            "five of clubs (♣)\n",
            "six of clubs (♣)\n",
            "seven of clubs (♣)\n",
            "eight of clubs (♣)\n",
            "nine of clubs (♣)\n",
            "ten of clubs (♣)\n",
            "jack of clubs (♣)\n",
            "queen of clubs (♣)\n",
            "king of clubs (♣)\n",
            "ace of clubs (♣)\n",
            "two of hearts (♥)\n",
            "three of hearts (♥)\n",
            "four of hearts (♥)\n",
            "five of hearts (♥)\n",
            "six of hearts (♥)\n",
            "seven of hearts (♥)\n",
            "eight of hearts (♥)\n",
            "nine of hearts (♥)\n",
            "ten of hearts (♥)\n",
            "jack of hearts (♥)\n",
            "queen of hearts (♥)\n",
            "king of hearts (♥)\n",
            "ace of hearts (♥)\n",
            "two of  spades (♠)\n",
            "three of  spades (♠)\n",
            "four of  spades (♠)\n",
            "five of  spades (♠)\n",
            "six of  spades (♠)\n",
            "seven of  spades (♠)\n",
            "eight of  spades (♠)\n",
            "nine of  spades (♠)\n",
            "ten of  spades (♠)\n",
            "jack of  spades (♠)\n"
          ],
          "name": "stdout"
        }
      ]
    },
    {
      "cell_type": "code",
      "metadata": {
        "id": "cTw5xWAcWny7"
      },
      "source": [
        "# Player class\r\n",
        "# the player will have one attribute, his name\r\n",
        "# we will be able to remove the card from our deck \r\n",
        "# after wining a game the player must be able to add the card to his decks, \r\n",
        "#the cards can be list of cards or a single card\r\n"
      ],
      "execution_count": 176,
      "outputs": []
    },
    {
      "cell_type": "code",
      "metadata": {
        "id": "GiYYWIKhWsV-"
      },
      "source": [
        "class Player():\r\n",
        "\r\n",
        "\r\n",
        "  def __init__(self, name):\r\n",
        "    self.name = name\r\n",
        "    self.all_cards = []\r\n",
        "\r\n",
        "  def remove_a_card(self):\r\n",
        "   # to play a war game, the top i card remove, pop(0)\r\n",
        "   return self.all_cards.pop(0) \r\n",
        "\r\n",
        "\r\n",
        " \r\n",
        "  def add_a_card(self,new_cards):\r\n",
        "   # we extend a list of cards to our  all_cards\r\n",
        "   if type(new_cards) == type([]):\r\n",
        "     self.all_cards.extend(new_cards)\r\n",
        "   # we append a card to our all_cards list\r\n",
        "   else:\r\n",
        "     self.all_cards.append(new_cards)\r\n",
        "\r\n",
        " # we want to print the number of cards a name has\r\n",
        "  def __str__(self):\r\n",
        "   return f'{self.name} has {len(self.all_cards)} cards'\r\n",
        "\r\n",
        "\r\n",
        "     \r\n",
        "\r\n"
      ],
      "execution_count": 177,
      "outputs": []
    },
    {
      "cell_type": "code",
      "metadata": {
        "id": "qLaRzgEwcva5"
      },
      "source": [
        "player_name = Player('Jose')"
      ],
      "execution_count": 178,
      "outputs": []
    },
    {
      "cell_type": "code",
      "metadata": {
        "colab": {
          "base_uri": "https://localhost:8080/",
          "height": 35
        },
        "id": "SvfsayMqd16n",
        "outputId": "e2b9b9ad-dd9d-4b02-a536-3287e2ed106e"
      },
      "source": [
        "player_name.name"
      ],
      "execution_count": 179,
      "outputs": [
        {
          "output_type": "execute_result",
          "data": {
            "application/vnd.google.colaboratory.intrinsic+json": {
              "type": "string"
            },
            "text/plain": [
              "'Jose'"
            ]
          },
          "metadata": {
            "tags": []
          },
          "execution_count": 179
        }
      ]
    },
    {
      "cell_type": "code",
      "metadata": {
        "colab": {
          "base_uri": "https://localhost:8080/"
        },
        "id": "amgY5MOBd4TS",
        "outputId": "52383209-fa48-4a00-d32f-b900e406acf2"
      },
      "source": [
        "print(player_name)"
      ],
      "execution_count": 180,
      "outputs": [
        {
          "output_type": "stream",
          "text": [
            "Jose has 0 cards\n"
          ],
          "name": "stdout"
        }
      ]
    },
    {
      "cell_type": "code",
      "metadata": {
        "id": "EeE4EyR1d_AK"
      },
      "source": [
        "player_name.add_a_card(card.all_cards[0])"
      ],
      "execution_count": 181,
      "outputs": []
    },
    {
      "cell_type": "code",
      "metadata": {
        "colab": {
          "base_uri": "https://localhost:8080/"
        },
        "id": "hqLLIOCuinpZ",
        "outputId": "90be8350-a0b7-4712-da47-aaad7d18ca01"
      },
      "source": [
        "print(player_name)"
      ],
      "execution_count": 182,
      "outputs": [
        {
          "output_type": "stream",
          "text": [
            "Jose has 1 cards\n"
          ],
          "name": "stdout"
        }
      ]
    },
    {
      "cell_type": "code",
      "metadata": {
        "id": "DvzC6ROSjJuw"
      },
      "source": [
        "player_name.add_a_card([card.all_cards[0],card.all_cards[1]])"
      ],
      "execution_count": 183,
      "outputs": []
    },
    {
      "cell_type": "code",
      "metadata": {
        "colab": {
          "base_uri": "https://localhost:8080/"
        },
        "id": "v4vuDZj6jWJF",
        "outputId": "debd9840-bd33-4f3d-f5bb-056e1bfe6211"
      },
      "source": [
        "print(player_name)"
      ],
      "execution_count": 184,
      "outputs": [
        {
          "output_type": "stream",
          "text": [
            "Jose has 3 cards\n"
          ],
          "name": "stdout"
        }
      ]
    },
    {
      "cell_type": "code",
      "metadata": {
        "colab": {
          "base_uri": "https://localhost:8080/"
        },
        "id": "DZk-cVnQjavC",
        "outputId": "dacd1c86-7d44-4358-e889-7c121b008114"
      },
      "source": [
        "print(player_name.remove_a_card())"
      ],
      "execution_count": 185,
      "outputs": [
        {
          "output_type": "stream",
          "text": [
            "two of diamonds (♦)\n"
          ],
          "name": "stdout"
        }
      ]
    },
    {
      "cell_type": "code",
      "metadata": {
        "colab": {
          "base_uri": "https://localhost:8080/"
        },
        "id": "XZF2_BXZjeFV",
        "outputId": "8be6f217-f6a8-490e-8ca9-48ef3fe2cf9b"
      },
      "source": [
        "print(player_name)"
      ],
      "execution_count": 186,
      "outputs": [
        {
          "output_type": "stream",
          "text": [
            "Jose has 2 cards\n"
          ],
          "name": "stdout"
        }
      ]
    },
    {
      "cell_type": "markdown",
      "metadata": {
        "id": "TS87Au4cj-f1"
      },
      "source": [
        "# we put everything together\r\n",
        "\r\n",
        "we have a card class, that have suit, rank and values and it can print them e.g (four of diamonds)\r\n",
        "\r\n",
        "we have a deck class, that can shuffle and deal cards using the card class\r\n",
        "\r\n",
        "we have a player class, that have a player name, removing a card from a list and adding a card to a list\r\n",
        "\r\n"
      ]
    },
    {
      "cell_type": "markdown",
      "metadata": {
        "id": "yR_B65cQoMPK"
      },
      "source": [
        "# GAME SET UP"
      ]
    },
    {
      "cell_type": "code",
      "metadata": {
        "id": "G9OqivGmjmAb"
      },
      "source": [
        "# our two players\r\n",
        "player_one = Player('one')\r\n",
        "player_two = Player('two')\r\n",
        "# our deck of cards and shuffle them\r\n",
        "new_deck = Deck()\r\n",
        "new_deck.shuffle_cards()\r\n",
        "\r\n",
        "\r\n",
        "\r\n",
        "# divide our deck of cards into two equal parts between our two players\r\n",
        "\r\n",
        "for cards in range(26):\r\n",
        "  player_one.add_a_card(new_deck.deal_a_card())\r\n",
        "  player_two.add_a_card(new_deck.deal_a_card())\r\n",
        "\r\n",
        "\r\n",
        "\r\n"
      ],
      "execution_count": 187,
      "outputs": []
    },
    {
      "cell_type": "code",
      "metadata": {
        "colab": {
          "base_uri": "https://localhost:8080/"
        },
        "id": "Sd5WZKqZl5ka",
        "outputId": "ab5626d9-0fc3-40f6-d16d-1c278d086f2e"
      },
      "source": [
        "print(len(player_two.all_cards))"
      ],
      "execution_count": 188,
      "outputs": [
        {
          "output_type": "stream",
          "text": [
            "26\n"
          ],
          "name": "stdout"
        }
      ]
    },
    {
      "cell_type": "code",
      "metadata": {
        "colab": {
          "base_uri": "https://localhost:8080/"
        },
        "id": "coYeRolHrB3l",
        "outputId": "6564989e-254d-446c-d1d0-f731105743ad"
      },
      "source": [
        "print(len(player_one.all_cards))"
      ],
      "execution_count": 189,
      "outputs": [
        {
          "output_type": "stream",
          "text": [
            "26\n"
          ],
          "name": "stdout"
        }
      ]
    },
    {
      "cell_type": "markdown",
      "metadata": {
        "id": "5ThqnmKrraS-"
      },
      "source": [
        "# both player one and player two have 26 cards\r\n",
        "we start playing the game\r\n",
        "\r\n",
        "\r\n",
        "\r\n"
      ]
    },
    {
      "cell_type": "code",
      "metadata": {
        "id": "VB_Qo7TIrTuF"
      },
      "source": [
        "game_on = True \r\n",
        "# when using a while loop always break from the game or use game_on = False"
      ],
      "execution_count": 190,
      "outputs": []
    },
    {
      "cell_type": "code",
      "metadata": {
        "colab": {
          "base_uri": "https://localhost:8080/"
        },
        "id": "uGqj2gNTr8a0",
        "outputId": "0a5abfe8-adfa-4626-bd8f-23a2ee5dffa9"
      },
      "source": [
        "round_num = 0\r\n",
        "while game_on:\r\n",
        "  \r\n",
        "   # there will be several rounds, we will like to print the number of rounds\r\n",
        "   round_num += 1\r\n",
        "   print(f'round {round_num}')\r\n",
        "\r\n",
        "\r\n",
        "   # we set when either player is going to loose\r\n",
        "   if len(player_one.all_cards)==0:\r\n",
        "     print('Player one is out of cards!')\r\n",
        "     print('Player two won')\r\n",
        "     game_on = False\r\n",
        "     break\r\n",
        "\r\n",
        "\r\n",
        "   if len(player_two.all_cards) == 0:\r\n",
        "    print('player two is out of cards!')\r\n",
        "    print('Player two won')\r\n",
        "    game_on = False\r\n",
        "    break\r\n",
        "\r\n",
        "    # we start a new round\r\n",
        "\r\n",
        "   player_one_cards = []\r\n",
        "    # player one draws a card and add it to player one cards \r\n",
        "   player_one_cards.append(player_one.remove_a_card())\r\n",
        "\r\n",
        "\r\n",
        "   player_two_cards = []\r\n",
        "    # player two draws a card and add it to player two cards\r\n",
        "   player_two_cards.append(player_two.remove_a_card())\r\n",
        "\r\n",
        "\r\n",
        "   at_war = True\r\n",
        "   while at_war:\r\n",
        "      # at war the last card is what is used to determine the winner\r\n",
        "      if player_one_cards[-1].value > player_two_cards[-1].value:\r\n",
        "        player_one.add_a_card(player_one_cards)\r\n",
        "        player_one.add_a_card(player_two_cards)\r\n",
        "        at_war = False\r\n",
        "        break\r\n",
        "\r\n",
        "      elif player_two_cards[-1].value > player_one_cards[-1].value:\r\n",
        "        player_two.add_a_card(player_two_cards)\r\n",
        "        player_two.add_a_card(player_one_cards)\r\n",
        "        at_war= False\r\n",
        "        break\r\n",
        "\r\n",
        "      else:\r\n",
        "        print('WAR STARTS')\r\n",
        "\r\n",
        "        if len(player_one.all_cards) < 5:\r\n",
        "          print('Player one doesnt have enough cards to continue war')\r\n",
        "          print('Player two won')\r\n",
        "          game_on = False\r\n",
        "          break\r\n",
        "          \r\n",
        "\r\n",
        "        elif len(player_two.all_cards) < 5:\r\n",
        "          print('Player two doesnt have enough cards to continue war')\r\n",
        "          print('Player one won')\r\n",
        "          game_on = False\r\n",
        "          break\r\n",
        "\r\n",
        "        else:\r\n",
        "          for num in range(5): # else we keep drawing more cards- removing 5 cards\r\n",
        "            player_one_cards.append(player_one.remove_a_card())\r\n",
        "            player_two_cards.append(player_two.remove_a_card())\r\n",
        "\r\n",
        "\r\n",
        "\r\n",
        "\r\n",
        "\r\n",
        "\r\n",
        "\r\n",
        "\r\n",
        "\r\n",
        "   \r\n",
        "\r\n",
        " \r\n",
        "\r\n",
        "  "
      ],
      "execution_count": 191,
      "outputs": [
        {
          "output_type": "stream",
          "text": [
            "round 1\n",
            "round 2\n",
            "round 3\n",
            "round 4\n",
            "round 5\n",
            "round 6\n",
            "round 7\n",
            "round 8\n",
            "round 9\n",
            "round 10\n",
            "round 11\n",
            "round 12\n",
            "round 13\n",
            "round 14\n",
            "round 15\n",
            "round 16\n",
            "round 17\n",
            "round 18\n",
            "round 19\n",
            "round 20\n",
            "round 21\n",
            "round 22\n",
            "WAR STARTS\n",
            "round 23\n",
            "round 24\n",
            "round 25\n",
            "round 26\n",
            "round 27\n",
            "round 28\n",
            "round 29\n",
            "WAR STARTS\n",
            "round 30\n",
            "round 31\n",
            "round 32\n",
            "round 33\n",
            "round 34\n",
            "round 35\n",
            "round 36\n",
            "round 37\n",
            "WAR STARTS\n",
            "round 38\n",
            "round 39\n",
            "round 40\n",
            "round 41\n",
            "round 42\n",
            "round 43\n",
            "WAR STARTS\n",
            "round 44\n",
            "round 45\n",
            "round 46\n",
            "round 47\n",
            "round 48\n",
            "round 49\n",
            "round 50\n",
            "round 51\n",
            "WAR STARTS\n",
            "round 52\n",
            "round 53\n",
            "round 54\n",
            "round 55\n",
            "round 56\n",
            "round 57\n",
            "round 58\n",
            "round 59\n",
            "round 60\n",
            "round 61\n",
            "round 62\n",
            "round 63\n",
            "round 64\n",
            "round 65\n",
            "round 66\n",
            "round 67\n",
            "round 68\n",
            "round 69\n",
            "round 70\n",
            "round 71\n",
            "round 72\n",
            "round 73\n",
            "round 74\n",
            "round 75\n",
            "round 76\n",
            "round 77\n",
            "round 78\n",
            "round 79\n",
            "round 80\n",
            "round 81\n",
            "round 82\n",
            "round 83\n",
            "round 84\n",
            "round 85\n",
            "round 86\n",
            "round 87\n",
            "round 88\n",
            "round 89\n",
            "round 90\n",
            "round 91\n",
            "round 92\n",
            "round 93\n",
            "round 94\n",
            "round 95\n",
            "round 96\n",
            "WAR STARTS\n",
            "Player one doesnt have enough cards to continue war\n",
            "Player two won\n"
          ],
          "name": "stdout"
        }
      ]
    },
    {
      "cell_type": "code",
      "metadata": {
        "id": "EQUR47V2299T"
      },
      "source": [
        ""
      ],
      "execution_count": 191,
      "outputs": []
    }
  ]
}