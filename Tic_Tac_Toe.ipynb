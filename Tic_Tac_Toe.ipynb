{
 "cells": [
  {
   "cell_type": "code",
   "execution_count": 1,
   "metadata": {},
   "outputs": [],
   "source": [
    "from IPython.display import clear_output\n",
    "def display(game):\n",
    "    clear_output()\n",
    "    print('   |   |')\n",
    "    print(' ' + board[7] + ' | ' + board[8] + ' | ' + board[9])\n",
    "    print('   |   |')\n",
    "    print('-----------')\n",
    "    print('   |   |')\n",
    "    print(' ' + board[4] + ' | ' + board[5] + ' | ' + board[6])\n",
    "    print('   |   |')\n",
    "    print('-----------')\n",
    "    print('   |   |')\n",
    "    print(' ' + board[1] + ' | ' + board[2] + ' | ' + board[3])\n",
    "    print('   |   |')"
   ]
  },
  {
   "cell_type": "code",
   "execution_count": 2,
   "metadata": {},
   "outputs": [],
   "source": [
    "board = ['#','X', 'O', 'X', 'O', 'X', 'O', 'X', 'O', 'X']\n"
   ]
  },
  {
   "cell_type": "code",
   "execution_count": 3,
   "metadata": {},
   "outputs": [
    {
     "name": "stdout",
     "output_type": "stream",
     "text": [
      "   |   |\n",
      " X | O | X\n",
      "   |   |\n",
      "-----------\n",
      "   |   |\n",
      " O | X | O\n",
      "   |   |\n",
      "-----------\n",
      "   |   |\n",
      " X | O | X\n",
      "   |   |\n"
     ]
    }
   ],
   "source": [
    "display(board)"
   ]
  },
  {
   "cell_type": "markdown",
   "metadata": {},
   "source": [
    "# To interract with the board"
   ]
  },
  {
   "cell_type": "code",
   "execution_count": 4,
   "metadata": {},
   "outputs": [],
   "source": [
    "def player_input():\n",
    "    player = ''\n",
    "    while player not in ['X', 'O']:\n",
    "        player =input('Choose X or O: ').upper()\n",
    "    if player == 'X':\n",
    "        return('X', 'O')\n",
    "    else:\n",
    "        return('O','X')\n",
    "    "
   ]
  },
  {
   "cell_type": "code",
   "execution_count": 5,
   "metadata": {},
   "outputs": [
    {
     "name": "stdout",
     "output_type": "stream",
     "text": [
      "Choose X or O: x\n"
     ]
    },
    {
     "data": {
      "text/plain": [
       "('X', 'O')"
      ]
     },
     "execution_count": 5,
     "metadata": {},
     "output_type": "execute_result"
    }
   ],
   "source": [
    "player_input()"
   ]
  },
  {
   "cell_type": "markdown",
   "metadata": {},
   "source": [
    "# Using Try and Except"
   ]
  },
  {
   "cell_type": "code",
   "execution_count": 6,
   "metadata": {},
   "outputs": [],
   "source": [
    "def player_input():\n",
    "    player = ''\n",
    "    while not (player == 'X' or player == 'O'):\n",
    "        try:\n",
    "            player = input('player 1: Do you want to be X or O: ' ).upper()\n",
    "            \n",
    "        except:\n",
    "            print('That is not an invalid input')\n",
    "            \n",
    "            \n",
    "    if player == 'X':\n",
    "        return ('X', 'O')\n",
    "    else:\n",
    "        return('O', 'X')\n",
    "            \n",
    "\n"
   ]
  },
  {
   "cell_type": "code",
   "execution_count": 7,
   "metadata": {},
   "outputs": [
    {
     "name": "stdout",
     "output_type": "stream",
     "text": [
      "player 1: Do you want to be X or O: x\n"
     ]
    },
    {
     "data": {
      "text/plain": [
       "('X', 'O')"
      ]
     },
     "execution_count": 7,
     "metadata": {},
     "output_type": "execute_result"
    }
   ],
   "source": [
    "player_input()"
   ]
  },
  {
   "cell_type": "code",
   "execution_count": 8,
   "metadata": {},
   "outputs": [],
   "source": [
    "def interacting(board, marker, position):\n",
    "    board[position] = marker"
   ]
  },
  {
   "cell_type": "code",
   "execution_count": 9,
   "metadata": {},
   "outputs": [],
   "source": [
    "interacting(board, '#', 1)"
   ]
  },
  {
   "cell_type": "code",
   "execution_count": 10,
   "metadata": {},
   "outputs": [
    {
     "name": "stdout",
     "output_type": "stream",
     "text": [
      "   |   |\n",
      " X | O | X\n",
      "   |   |\n",
      "-----------\n",
      "   |   |\n",
      " O | X | O\n",
      "   |   |\n",
      "-----------\n",
      "   |   |\n",
      " # | O | X\n",
      "   |   |\n"
     ]
    }
   ],
   "source": [
    "display(board)"
   ]
  },
  {
   "cell_type": "code",
   "execution_count": 11,
   "metadata": {},
   "outputs": [],
   "source": [
    "def win_check(board, mark):\n",
    "    \n",
    "    return((board[7] == mark and board[8] == mark and board[9] == mark) or\n",
    "          (board[4] == mark and board[5] == mark and board[6] == mark) or\n",
    "          (board[1] == mark and board[2] == mark and board[3] == mark) or\n",
    "          (board[7] == mark and board[4] == mark and board[1] == mark) or\n",
    "          (board[9] == mark and board[6] == mark and board[3] == mark) or\n",
    "          (board[9] == mark and board[5] == mark and board[1] == mark) or\n",
    "          (board[7] == mark and board[5] == mark and board[3] == mark) or\n",
    "          (board[8] == mark and board[5] == mark and board[2] == mark))"
   ]
  },
  {
   "cell_type": "code",
   "execution_count": 12,
   "metadata": {},
   "outputs": [
    {
     "data": {
      "text/plain": [
       "True"
      ]
     },
     "execution_count": 12,
     "metadata": {},
     "output_type": "execute_result"
    }
   ],
   "source": [
    "win_check(board, 'X')"
   ]
  },
  {
   "cell_type": "code",
   "execution_count": 13,
   "metadata": {},
   "outputs": [],
   "source": [
    "# to randomly decide who plays first\n",
    "import random\n",
    "def play_first():\n",
    "    if random.randint(0,1) == 0:\n",
    "        return 'Player 1 turn'\n",
    "    else:\n",
    "        return 'Player 2 turn'\n",
    "    "
   ]
  },
  {
   "cell_type": "code",
   "execution_count": 14,
   "metadata": {},
   "outputs": [
    {
     "data": {
      "text/plain": [
       "'Player 1 turn'"
      ]
     },
     "execution_count": 14,
     "metadata": {},
     "output_type": "execute_result"
    }
   ],
   "source": [
    "play_first()"
   ]
  },
  {
   "cell_type": "code",
   "execution_count": 15,
   "metadata": {},
   "outputs": [],
   "source": [
    "# to check if the board if free\n",
    "def free_board(board, position):\n",
    "    return board[position] == ' '"
   ]
  },
  {
   "cell_type": "code",
   "execution_count": 16,
   "metadata": {},
   "outputs": [
    {
     "data": {
      "text/plain": [
       "False"
      ]
     },
     "execution_count": 16,
     "metadata": {},
     "output_type": "execute_result"
    }
   ],
   "source": [
    "free_board(board,2 )"
   ]
  },
  {
   "cell_type": "code",
   "execution_count": 17,
   "metadata": {},
   "outputs": [],
   "source": [
    "def full_board(board):\n",
    "    for i in range(1,10):\n",
    "        if free_board(board, i):\n",
    "            return False\n",
    "    return True\n",
    "        "
   ]
  },
  {
   "cell_type": "code",
   "execution_count": 18,
   "metadata": {},
   "outputs": [],
   "source": [
    "def new_position(board):\n",
    "    \n",
    "    position = 0\n",
    "    \n",
    "    while position not in [1, 2, 3, 4, 5, 6, 7, 8, 9] or not free_board(board, position):\n",
    "        position = int(input(' Please insert your position: '))\n",
    "        \n",
    "    return position\n",
    "    \n",
    "    \n",
    "    "
   ]
  },
  {
   "cell_type": "code",
   "execution_count": 19,
   "metadata": {},
   "outputs": [],
   "source": [
    "def replay():\n",
    "    return input('Do you want to play again, Yes or No: ').lower().startswith('y')"
   ]
  },
  {
   "cell_type": "code",
   "execution_count": 20,
   "metadata": {},
   "outputs": [
    {
     "name": "stdout",
     "output_type": "stream",
     "text": [
      "Do you want to play again, Yes or No: y\n"
     ]
    },
    {
     "data": {
      "text/plain": [
       "True"
      ]
     },
     "execution_count": 20,
     "metadata": {},
     "output_type": "execute_result"
    }
   ],
   "source": [
    "replay()"
   ]
  },
  {
   "cell_type": "code",
   "execution_count": 21,
   "metadata": {},
   "outputs": [
    {
     "name": "stdout",
     "output_type": "stream",
     "text": [
      "   |   |\n",
      " O |   |  \n",
      "   |   |\n",
      "-----------\n",
      "   |   |\n",
      " X | O | X\n",
      "   |   |\n",
      "-----------\n",
      "   |   |\n",
      " O | X | O\n",
      "   |   |\n",
      "Player two won\n",
      "Do you want to play again, Yes or No: n\n"
     ]
    }
   ],
   "source": [
    "# putting everything together\n",
    "\n",
    "print('Welcome to Tic Tac Toe')\n",
    "\n",
    "while True:\n",
    "    board = [' '] * 10\n",
    "    \n",
    "    player1_marker, player2_marker = player_input()\n",
    "    \n",
    "    # which player should play first\n",
    "    \n",
    "    turn = play_first()\n",
    "    print(turn + ' will go first')\n",
    "    \n",
    "    # we ask our players if they are willing to play\n",
    "    \n",
    "    play_game = input('Do you want to play, Yes or NO: ')\n",
    "    if play_game.lower()[0] == 'y':\n",
    "        game_on = True\n",
    "    else:\n",
    "        game_on = False\n",
    "    \n",
    "    \n",
    "    # we want to play now\n",
    "\n",
    "    \n",
    "    while game_on:\n",
    "        if turn == 'player 1':\n",
    "            display(board)\n",
    "            position = new_position(board)\n",
    "            interacting(board, player1_marker, position)\n",
    "            \n",
    "            if win_check(board, player1_marker):\n",
    "                display(board)\n",
    "                print('Player1 has Won')\n",
    "                game_on = False\n",
    "            else:\n",
    "                \n",
    "                if full_board(board):\n",
    "                    display(board)\n",
    "                    print('The game is a nil')\n",
    "                    break\n",
    "                    \n",
    "                else:\n",
    "                    turn = 'player 2'\n",
    "                    \n",
    "                    \n",
    "                    \n",
    "        else:\n",
    "           \n",
    "            display(board)\n",
    "            position = new_position(board)\n",
    "            interacting(board, player2_marker, position)\n",
    "            \n",
    "            if win_check(board, player2_marker):\n",
    "                display(board)\n",
    "                print('Player two won')\n",
    "                game_on = False\n",
    "                \n",
    "            else:\n",
    "                if full_board(board):\n",
    "                    n\n",
    "                    display(board)\n",
    "                    print('The game is a draw')\n",
    "                    break\n",
    "                    \n",
    "                else:\n",
    "                    turn = 'player 1'\n",
    "    \n",
    "                \n",
    "    if not replay():\n",
    "        break\n"
   ]
  },
  {
   "cell_type": "code",
   "execution_count": null,
   "metadata": {},
   "outputs": [],
   "source": []
  },
  {
   "cell_type": "code",
   "execution_count": null,
   "metadata": {},
   "outputs": [],
   "source": []
  }
 ],
 "metadata": {
  "kernelspec": {
   "display_name": "Python 3",
   "language": "python",
   "name": "python3"
  },
  "language_info": {
   "codemirror_mode": {
    "name": "ipython",
    "version": 3
   },
   "file_extension": ".py",
   "mimetype": "text/x-python",
   "name": "python",
   "nbconvert_exporter": "python",
   "pygments_lexer": "ipython3",
   "version": "3.8.5"
  }
 },
 "nbformat": 4,
 "nbformat_minor": 4
}
