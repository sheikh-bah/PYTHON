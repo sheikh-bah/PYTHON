{
 "cells": [
  {
   "cell_type": "markdown",
   "metadata": {},
   "source": [
    "#  we create a standard 52 card deck\n",
    "13 ranks in each four\n",
    "four suits: Diamonds, hearts and spades\n",
    "\n",
    "each suite includes 3 court cards ( face cards): king,queen and jack\n",
    "\n",
    "each suite contains an ace\n",
    "\n",
    "# we also create the ranking of the cards:\n",
    "jack = 11, queen = 12, king = 13 and ace = 14"
   ]
  },
  {
   "cell_type": "code",
   "execution_count": 2,
   "metadata": {},
   "outputs": [],
   "source": [
    "# global variables\n",
    "import random\n",
    "suits = ('clubs','hearts','diamonds','spades') # use tuples because we are not changing them\n",
    "ranks = ('two','three','four','five','six','seven','eight','nine','ten','jack','queen','king','ace')\n",
    "values = {'two' : 2, 'three' : 3, 'four': 4, 'five': 5, 'six': 6, 'seven':7, 'eight':8 , 'nine': 9, 'ten':10,\\\n",
    "       'jack': 11, 'queen': 12,'king': 13,'ace':14}"
   ]
  },
  {
   "cell_type": "code",
   "execution_count": 3,
   "metadata": {},
   "outputs": [],
   "source": [
    "class Card():\n",
    "    \n",
    "    \n",
    "    \n",
    "    def __init__(self,suit, rank):\n",
    "        \n",
    "        self.suit = suit\n",
    "        self.rank = rank\n",
    "        self.values = values[rank]\n",
    "        \n",
    "    # we want to print\n",
    "    \n",
    "    def __str__(self):\n",
    "        return self.rank + \" of \" + self.suit"
   ]
  },
  {
   "cell_type": "code",
   "execution_count": 4,
   "metadata": {},
   "outputs": [],
   "source": [
    "class Deck():\n",
    "    \n",
    "    def __init__(self):\n",
    "        \n",
    "        self.all_cards = []\n",
    "        for suit in suits:\n",
    "            for rank in ranks:\n",
    "                # create the card object\n",
    "                # we are not expecting a list where we \n",
    "                # can see two of hearts, etc\n",
    "                # we want to create an object to hold all 52 decs\n",
    "                #this object was already created previously.\n",
    "                # so we call it\n",
    "                created_card = Card(suit,rank)\n",
    "                self.all_cards.append(created_card)\n",
    "                \n",
    "        \n",
    "   \n",
    "    # shuffle card object\n",
    "    def shuffle_card(self):\n",
    "        random.shuffle(self.all_cards)\n",
    "        \n",
    "    \n",
    "    def deal_card(self):\n",
    "        return self.all_cards.pop()\n",
    "    \n",
    "    # expand on this,to deal two cards\n",
    "    # split the deck in half\n",
    "    \n"
   ]
  },
  {
   "cell_type": "code",
   "execution_count": 5,
   "metadata": {},
   "outputs": [],
   "source": [
    "class Player:\n",
    "    \n",
    "    def __init__(self,name):\n",
    "        self.name = name\n",
    "        # to hold players card\n",
    "        self.all_cards = []\n",
    "    def remove_one(self):\n",
    "        return self.all_cards.pop(0)\n",
    "    \n",
    "    \n",
    "    def add_cards(self,new_cards):\n",
    "        if type(new_cards) == type([]):\n",
    "            self.all_cards.extend(new_cards)\n",
    "        else:\n",
    "            self.all_cards.append(new_cards)\n",
    "    \n",
    "    def __str__(self):\n",
    "        return f\" player {self.name} has {len(self.all_cards)} cards\"\n",
    "        \n",
    "    "
   ]
  },
  {
   "cell_type": "code",
   "execution_count": 6,
   "metadata": {},
   "outputs": [],
   "source": [
    "my_card = Deck()"
   ]
  },
  {
   "cell_type": "code",
   "execution_count": 7,
   "metadata": {},
   "outputs": [
    {
     "name": "stdout",
     "output_type": "stream",
     "text": [
      "two of clubs\n"
     ]
    }
   ],
   "source": [
    "print(my_card.all_cards[0])"
   ]
  },
  {
   "cell_type": "code",
   "execution_count": 8,
   "metadata": {},
   "outputs": [],
   "source": [
    "first_card = my_card.all_cards[0]"
   ]
  },
  {
   "cell_type": "code",
   "execution_count": 9,
   "metadata": {},
   "outputs": [
    {
     "name": "stdout",
     "output_type": "stream",
     "text": [
      "two of clubs\n"
     ]
    }
   ],
   "source": [
    "print(first_card)\n"
   ]
  },
  {
   "cell_type": "code",
   "execution_count": 10,
   "metadata": {},
   "outputs": [],
   "source": [
    "last_card = my_card.all_cards[-1]"
   ]
  },
  {
   "cell_type": "code",
   "execution_count": 11,
   "metadata": {},
   "outputs": [
    {
     "name": "stdout",
     "output_type": "stream",
     "text": [
      "ace of spades\n"
     ]
    }
   ],
   "source": [
    "print(last_card)"
   ]
  },
  {
   "cell_type": "code",
   "execution_count": 12,
   "metadata": {},
   "outputs": [
    {
     "name": "stdout",
     "output_type": "stream",
     "text": [
      "seven of hearts\n"
     ]
    }
   ],
   "source": [
    "my_card.shuffle_card()\n",
    "print( my_card.all_cards[-1])\n"
   ]
  },
  {
   "cell_type": "code",
   "execution_count": 13,
   "metadata": {},
   "outputs": [],
   "source": [
    "new_player = Player('Omar')"
   ]
  },
  {
   "cell_type": "code",
   "execution_count": 14,
   "metadata": {},
   "outputs": [
    {
     "name": "stdout",
     "output_type": "stream",
     "text": [
      " player Omar has 0 cards\n"
     ]
    }
   ],
   "source": [
    "print(new_player)"
   ]
  },
  {
   "cell_type": "code",
   "execution_count": 15,
   "metadata": {},
   "outputs": [],
   "source": [
    "new_player.add_cards(first_card)"
   ]
  },
  {
   "cell_type": "code",
   "execution_count": 16,
   "metadata": {},
   "outputs": [
    {
     "name": "stdout",
     "output_type": "stream",
     "text": [
      " player Omar has 1 cards\n"
     ]
    }
   ],
   "source": [
    "print(new_player)"
   ]
  },
  {
   "cell_type": "code",
   "execution_count": 17,
   "metadata": {},
   "outputs": [],
   "source": [
    "new_player.add_cards([first_card,first_card,first_card])"
   ]
  },
  {
   "cell_type": "code",
   "execution_count": 18,
   "metadata": {},
   "outputs": [
    {
     "name": "stdout",
     "output_type": "stream",
     "text": [
      " player Omar has 4 cards\n"
     ]
    }
   ],
   "source": [
    "print(new_player)"
   ]
  },
  {
   "cell_type": "code",
   "execution_count": 19,
   "metadata": {},
   "outputs": [
    {
     "data": {
      "text/plain": [
       "<__main__.Card at 0x184c6b2fdd8>"
      ]
     },
     "execution_count": 19,
     "metadata": {},
     "output_type": "execute_result"
    }
   ],
   "source": [
    "new_player.remove_one()"
   ]
  },
  {
   "cell_type": "code",
   "execution_count": 20,
   "metadata": {},
   "outputs": [
    {
     "name": "stdout",
     "output_type": "stream",
     "text": [
      " player Omar has 3 cards\n"
     ]
    }
   ],
   "source": [
    "print(new_player)"
   ]
  },
  {
   "cell_type": "code",
   "execution_count": 46,
   "metadata": {},
   "outputs": [],
   "source": [
    "new_deck = Deck()\n",
    "player1 = Player('one')\n",
    "player2 = Player('two')\n",
    "# shuffle  deck\n",
    "new_deck.shuffle_card()\n",
    "# split deck in half\n",
    "\n",
    "def split_deck(the_deck):\n",
    "    half = len(the_deck)//2\n",
    "    return the_deck[:half], the_deck[half:]\n"
   ]
  },
  {
   "cell_type": "code",
   "execution_count": 47,
   "metadata": {},
   "outputs": [],
   "source": [
    "for x in range(26):\n",
    "    player1.add_cards(new_deck.deal_card())\n",
    "    player2.add_cards(new_deck.deal_card())"
   ]
  },
  {
   "cell_type": "code",
   "execution_count": 48,
   "metadata": {},
   "outputs": [
    {
     "data": {
      "text/plain": [
       "0"
      ]
     },
     "execution_count": 48,
     "metadata": {},
     "output_type": "execute_result"
    }
   ],
   "source": [
    "len(new_deck.all_cards)"
   ]
  },
  {
   "cell_type": "code",
   "execution_count": 49,
   "metadata": {},
   "outputs": [
    {
     "data": {
      "text/plain": [
       "26"
      ]
     },
     "execution_count": 49,
     "metadata": {},
     "output_type": "execute_result"
    }
   ],
   "source": [
    "len(player1.all_cards)"
   ]
  },
  {
   "cell_type": "code",
   "execution_count": 50,
   "metadata": {},
   "outputs": [
    {
     "data": {
      "text/plain": [
       "26"
      ]
     },
     "execution_count": 50,
     "metadata": {},
     "output_type": "execute_result"
    }
   ],
   "source": [
    "len(player2.all_cards)"
   ]
  },
  {
   "cell_type": "markdown",
   "metadata": {},
   "source": [
    "# game set up"
   ]
  },
  {
   "cell_type": "code",
   "execution_count": 51,
   "metadata": {},
   "outputs": [],
   "source": [
    "game_on = True"
   ]
  },
  {
   "cell_type": "code",
   "execution_count": 52,
   "metadata": {},
   "outputs": [
    {
     "name": "stdout",
     "output_type": "stream",
     "text": [
      "Round 1\n",
      "Round 2\n",
      "Round 3\n",
      "Round 4\n",
      "Round 5\n",
      "Round 6\n",
      "Round 7\n",
      "Round 8\n",
      "Round 9\n",
      "Round 10\n",
      "Round 11\n",
      "Round 12\n",
      "Round 13\n",
      "Round 14\n",
      "Round 15\n",
      "Round 16\n",
      "Round 17\n",
      "Round 18\n",
      "Round 19\n",
      "Round 20\n",
      "Round 21\n",
      "Round 22\n",
      "Round 23\n",
      "Round 24\n",
      "Round 25\n",
      "Round 26\n",
      "Round 27\n",
      "WAR\n",
      "WAR\n",
      "WAR\n",
      "WAR\n",
      "WAR\n",
      "Player one has less than 5 cards during war\n",
      "player two won\n"
     ]
    }
   ],
   "source": [
    "round_num = 0\n",
    "\n",
    "while game_on:\n",
    "    round_num += 1\n",
    "    print(f\"Round {round_num}\")\n",
    "    # we always check the hand of the player\n",
    "    if len(player1.all_cards) == 0:\n",
    "        print('player two won')\n",
    "        print('Game over')\n",
    "        game_on = False\n",
    "        \n",
    "        break\n",
    "    \n",
    "    if len(player2.all_cards) == 0:\n",
    "        print('player one won')\n",
    "        print('Game over')\n",
    "        game_on = False\n",
    "        \n",
    "        break\n",
    "        \n",
    "    # at war\n",
    "    \n",
    "    at_war = True\n",
    "    \n",
    "    while at_war:\n",
    "        \n",
    "        player_one_table = []\n",
    "        player_one_table.append(player1.remove_one())\n",
    "        \n",
    "        player_two_table = []\n",
    "        player_two_table.append(player2.remove_one())\n",
    "        \n",
    "        if player_one_table[-1].values > player_two_table[-1].values:\n",
    "            # player one gets the cards\n",
    "            player1.add_cards(player_one_table)\n",
    "            player2.add_cards(player_one_table)\n",
    "            \n",
    "            at_war = False\n",
    "            \n",
    "        elif player_one_table[-1].values < player_two_table[-1].values:\n",
    "            player1.add_cards(player_two_table)\n",
    "            player2.add_cards(player_two_table)\n",
    "            at_war = False\n",
    "            \n",
    "        else:\n",
    "            print('WAR')\n",
    "            # This occurs when the cards are equal.\n",
    "            # We'll grab another card each and continue the current war.\n",
    "            \n",
    "            # First check to see if player has enough cards\n",
    "            \n",
    "            # Check to see if a player is out of cards:\n",
    "            # special rules at war:  each player will draw 5 additional cards\n",
    "            # if they have less than 5 cards they lose\n",
    "            if len(player1.all_cards) < 5:\n",
    "                print('Player one has less than 5 cards during war')\n",
    "                print('player two won')\n",
    "                game_on = False\n",
    "                break\n",
    "            elif len(player2.all_cards) < 5:\n",
    "                print('Player two has less than 5 cards during war')\n",
    "                print('player onr won')\n",
    "                game_on = False\n",
    "                break\n",
    "                \n",
    "            else:\n",
    "                for num in range(5):\n",
    "                    player_one_table.append(player1.remove_one())\n",
    "                    player_two_table.append(player2.remove_one())\n",
    "                \n",
    "            \n",
    "            \n",
    "            \n",
    "              \n",
    "              \n",
    "              \n",
    "        \n",
    "    "
   ]
  },
  {
   "cell_type": "code",
   "execution_count": 56,
   "metadata": {},
   "outputs": [
    {
     "data": {
      "text/plain": [
       "1"
      ]
     },
     "execution_count": 56,
     "metadata": {},
     "output_type": "execute_result"
    }
   ],
   "source": [
    "len(player_one_table)"
   ]
  },
  {
   "cell_type": "code",
   "execution_count": 54,
   "metadata": {},
   "outputs": [
    {
     "data": {
      "text/plain": [
       "1"
      ]
     },
     "execution_count": 54,
     "metadata": {},
     "output_type": "execute_result"
    }
   ],
   "source": [
    "len(player2.all_cards)"
   ]
  },
  {
   "cell_type": "code",
   "execution_count": null,
   "metadata": {},
   "outputs": [],
   "source": []
  }
 ],
 "metadata": {
  "kernelspec": {
   "display_name": "Python 36",
   "language": "python",
   "name": "python3"
  },
  "language_info": {
   "codemirror_mode": {
    "name": "ipython",
    "version": 3
   },
   "file_extension": ".py",
   "mimetype": "text/x-python",
   "name": "python",
   "nbconvert_exporter": "python",
   "pygments_lexer": "ipython3",
   "version": "3.6.9"
  }
 },
 "nbformat": 4,
 "nbformat_minor": 2
}
